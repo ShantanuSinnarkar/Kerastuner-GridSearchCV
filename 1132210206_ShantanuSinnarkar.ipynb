{
 "cells": [
  {
   "cell_type": "code",
   "execution_count": 374,
   "id": "0b9b0454",
   "metadata": {},
   "outputs": [],
   "source": [
    "import pandas as pd\n",
    "import numpy as np\n",
    "import seaborn as sns\n",
    "import matplotlib.pyplot as plt\n",
    "import keras\n",
    "from keras.models import Sequential\n",
    "from keras.layers import Dense,ReLU,Activation,Dropout"
   ]
  },
  {
   "cell_type": "code",
   "execution_count": 266,
   "id": "4f9af088",
   "metadata": {},
   "outputs": [],
   "source": [
    "data = pd.read_csv(\"C:/Users/Shant/Downloads/Tetuan City power consumption.csv\")"
   ]
  },
  {
   "cell_type": "code",
   "execution_count": 267,
   "id": "cca156ee",
   "metadata": {},
   "outputs": [
    {
     "data": {
      "text/html": [
       "<div>\n",
       "<style scoped>\n",
       "    .dataframe tbody tr th:only-of-type {\n",
       "        vertical-align: middle;\n",
       "    }\n",
       "\n",
       "    .dataframe tbody tr th {\n",
       "        vertical-align: top;\n",
       "    }\n",
       "\n",
       "    .dataframe thead th {\n",
       "        text-align: right;\n",
       "    }\n",
       "</style>\n",
       "<table border=\"1\" class=\"dataframe\">\n",
       "  <thead>\n",
       "    <tr style=\"text-align: right;\">\n",
       "      <th></th>\n",
       "      <th>Temperature</th>\n",
       "      <th>Humidity</th>\n",
       "      <th>Wind Speed</th>\n",
       "      <th>general diffuse flows</th>\n",
       "      <th>diffuse flows</th>\n",
       "      <th>Zone 1 Power Consumption</th>\n",
       "      <th>Zone 2  Power Consumption</th>\n",
       "      <th>Zone 3  Power Consumption</th>\n",
       "    </tr>\n",
       "  </thead>\n",
       "  <tbody>\n",
       "    <tr>\n",
       "      <th>0</th>\n",
       "      <td>6.559</td>\n",
       "      <td>73.8</td>\n",
       "      <td>0.083</td>\n",
       "      <td>0.051</td>\n",
       "      <td>0.119</td>\n",
       "      <td>34055.69620</td>\n",
       "      <td>16128.87538</td>\n",
       "      <td>20240.96386</td>\n",
       "    </tr>\n",
       "    <tr>\n",
       "      <th>1</th>\n",
       "      <td>6.414</td>\n",
       "      <td>74.5</td>\n",
       "      <td>0.083</td>\n",
       "      <td>0.070</td>\n",
       "      <td>0.085</td>\n",
       "      <td>29814.68354</td>\n",
       "      <td>19375.07599</td>\n",
       "      <td>20131.08434</td>\n",
       "    </tr>\n",
       "    <tr>\n",
       "      <th>2</th>\n",
       "      <td>6.313</td>\n",
       "      <td>74.5</td>\n",
       "      <td>0.080</td>\n",
       "      <td>0.062</td>\n",
       "      <td>0.100</td>\n",
       "      <td>29128.10127</td>\n",
       "      <td>19006.68693</td>\n",
       "      <td>19668.43373</td>\n",
       "    </tr>\n",
       "    <tr>\n",
       "      <th>3</th>\n",
       "      <td>6.121</td>\n",
       "      <td>75.0</td>\n",
       "      <td>0.083</td>\n",
       "      <td>0.091</td>\n",
       "      <td>0.096</td>\n",
       "      <td>28228.86076</td>\n",
       "      <td>18361.09422</td>\n",
       "      <td>18899.27711</td>\n",
       "    </tr>\n",
       "    <tr>\n",
       "      <th>4</th>\n",
       "      <td>5.921</td>\n",
       "      <td>75.7</td>\n",
       "      <td>0.081</td>\n",
       "      <td>0.048</td>\n",
       "      <td>0.085</td>\n",
       "      <td>27335.69620</td>\n",
       "      <td>17872.34043</td>\n",
       "      <td>18442.40964</td>\n",
       "    </tr>\n",
       "  </tbody>\n",
       "</table>\n",
       "</div>"
      ],
      "text/plain": [
       "   Temperature  Humidity  Wind Speed  ...  Zone 1 Power Consumption  Zone 2  Power Consumption  Zone 3  Power Consumption\n",
       "0        6.559      73.8       0.083  ...               34055.69620                16128.87538                20240.96386\n",
       "1        6.414      74.5       0.083  ...               29814.68354                19375.07599                20131.08434\n",
       "2        6.313      74.5       0.080  ...               29128.10127                19006.68693                19668.43373\n",
       "3        6.121      75.0       0.083  ...               28228.86076                18361.09422                18899.27711\n",
       "4        5.921      75.7       0.081  ...               27335.69620                17872.34043                18442.40964\n",
       "\n",
       "[5 rows x 8 columns]"
      ]
     },
     "execution_count": 267,
     "metadata": {},
     "output_type": "execute_result"
    }
   ],
   "source": [
    "data.head()"
   ]
  },
  {
   "cell_type": "code",
   "execution_count": 36,
   "id": "47fb25ac",
   "metadata": {
    "scrolled": true
   },
   "outputs": [
    {
     "data": {
      "text/html": [
       "<div>\n",
       "<style scoped>\n",
       "    .dataframe tbody tr th:only-of-type {\n",
       "        vertical-align: middle;\n",
       "    }\n",
       "\n",
       "    .dataframe tbody tr th {\n",
       "        vertical-align: top;\n",
       "    }\n",
       "\n",
       "    .dataframe thead th {\n",
       "        text-align: right;\n",
       "    }\n",
       "</style>\n",
       "<table border=\"1\" class=\"dataframe\">\n",
       "  <thead>\n",
       "    <tr style=\"text-align: right;\">\n",
       "      <th></th>\n",
       "      <th>Temperature</th>\n",
       "      <th>Humidity</th>\n",
       "      <th>Wind Speed</th>\n",
       "      <th>general diffuse flows</th>\n",
       "      <th>diffuse flows</th>\n",
       "      <th>Zone 1 Power Consumption</th>\n",
       "      <th>Zone 2  Power Consumption</th>\n",
       "      <th>Zone 3  Power Consumption</th>\n",
       "    </tr>\n",
       "  </thead>\n",
       "  <tbody>\n",
       "    <tr>\n",
       "      <th>Temperature</th>\n",
       "      <td>1.000000</td>\n",
       "      <td>-0.460243</td>\n",
       "      <td>0.477109</td>\n",
       "      <td>0.460294</td>\n",
       "      <td>0.196522</td>\n",
       "      <td>0.440221</td>\n",
       "      <td>0.382428</td>\n",
       "      <td>0.489527</td>\n",
       "    </tr>\n",
       "    <tr>\n",
       "      <th>Humidity</th>\n",
       "      <td>-0.460243</td>\n",
       "      <td>1.000000</td>\n",
       "      <td>-0.135853</td>\n",
       "      <td>-0.468138</td>\n",
       "      <td>-0.256886</td>\n",
       "      <td>-0.287421</td>\n",
       "      <td>-0.294961</td>\n",
       "      <td>-0.233022</td>\n",
       "    </tr>\n",
       "    <tr>\n",
       "      <th>Wind Speed</th>\n",
       "      <td>0.477109</td>\n",
       "      <td>-0.135853</td>\n",
       "      <td>1.000000</td>\n",
       "      <td>0.133733</td>\n",
       "      <td>-0.000972</td>\n",
       "      <td>0.167444</td>\n",
       "      <td>0.146413</td>\n",
       "      <td>0.278641</td>\n",
       "    </tr>\n",
       "    <tr>\n",
       "      <th>general diffuse flows</th>\n",
       "      <td>0.460294</td>\n",
       "      <td>-0.468138</td>\n",
       "      <td>0.133733</td>\n",
       "      <td>1.000000</td>\n",
       "      <td>0.564718</td>\n",
       "      <td>0.187965</td>\n",
       "      <td>0.157223</td>\n",
       "      <td>0.063376</td>\n",
       "    </tr>\n",
       "    <tr>\n",
       "      <th>diffuse flows</th>\n",
       "      <td>0.196522</td>\n",
       "      <td>-0.256886</td>\n",
       "      <td>-0.000972</td>\n",
       "      <td>0.564718</td>\n",
       "      <td>1.000000</td>\n",
       "      <td>0.080274</td>\n",
       "      <td>0.044667</td>\n",
       "      <td>-0.038506</td>\n",
       "    </tr>\n",
       "    <tr>\n",
       "      <th>Zone 1 Power Consumption</th>\n",
       "      <td>0.440221</td>\n",
       "      <td>-0.287421</td>\n",
       "      <td>0.167444</td>\n",
       "      <td>0.187965</td>\n",
       "      <td>0.080274</td>\n",
       "      <td>1.000000</td>\n",
       "      <td>0.834519</td>\n",
       "      <td>0.750733</td>\n",
       "    </tr>\n",
       "    <tr>\n",
       "      <th>Zone 2  Power Consumption</th>\n",
       "      <td>0.382428</td>\n",
       "      <td>-0.294961</td>\n",
       "      <td>0.146413</td>\n",
       "      <td>0.157223</td>\n",
       "      <td>0.044667</td>\n",
       "      <td>0.834519</td>\n",
       "      <td>1.000000</td>\n",
       "      <td>0.570932</td>\n",
       "    </tr>\n",
       "    <tr>\n",
       "      <th>Zone 3  Power Consumption</th>\n",
       "      <td>0.489527</td>\n",
       "      <td>-0.233022</td>\n",
       "      <td>0.278641</td>\n",
       "      <td>0.063376</td>\n",
       "      <td>-0.038506</td>\n",
       "      <td>0.750733</td>\n",
       "      <td>0.570932</td>\n",
       "      <td>1.000000</td>\n",
       "    </tr>\n",
       "  </tbody>\n",
       "</table>\n",
       "</div>"
      ],
      "text/plain": [
       "                           Temperature  Humidity  ...  Zone 2  Power Consumption  Zone 3  Power Consumption\n",
       "Temperature                   1.000000 -0.460243  ...                   0.382428                   0.489527\n",
       "Humidity                     -0.460243  1.000000  ...                  -0.294961                  -0.233022\n",
       "Wind Speed                    0.477109 -0.135853  ...                   0.146413                   0.278641\n",
       "general diffuse flows         0.460294 -0.468138  ...                   0.157223                   0.063376\n",
       "diffuse flows                 0.196522 -0.256886  ...                   0.044667                  -0.038506\n",
       "Zone 1 Power Consumption      0.440221 -0.287421  ...                   0.834519                   0.750733\n",
       "Zone 2  Power Consumption     0.382428 -0.294961  ...                   1.000000                   0.570932\n",
       "Zone 3  Power Consumption     0.489527 -0.233022  ...                   0.570932                   1.000000\n",
       "\n",
       "[8 rows x 8 columns]"
      ]
     },
     "execution_count": 36,
     "metadata": {},
     "output_type": "execute_result"
    }
   ],
   "source": [
    "data.corr()"
   ]
  },
  {
   "cell_type": "code",
   "execution_count": 37,
   "id": "42e932cc",
   "metadata": {},
   "outputs": [
    {
     "data": {
      "text/plain": [
       "Temperature                  0\n",
       "Humidity                     0\n",
       "Wind Speed                   0\n",
       "general diffuse flows        0\n",
       "diffuse flows                0\n",
       "Zone 1 Power Consumption     0\n",
       "Zone 2  Power Consumption    0\n",
       "Zone 3  Power Consumption    0\n",
       "dtype: int64"
      ]
     },
     "execution_count": 37,
     "metadata": {},
     "output_type": "execute_result"
    }
   ],
   "source": [
    "data.isna().sum()"
   ]
  },
  {
   "cell_type": "markdown",
   "id": "a4486499",
   "metadata": {},
   "source": [
    "### Train Test Split"
   ]
  },
  {
   "cell_type": "code",
   "execution_count": 337,
   "id": "d5ee30fc",
   "metadata": {},
   "outputs": [],
   "source": [
    "from sklearn.model_selection import train_test_split\n",
    "x_train, x_test, y_train, y_test = train_test_split(x, y , test_size = 0.2, random_state = 11)"
   ]
  },
  {
   "cell_type": "code",
   "execution_count": 422,
   "id": "cd84e8ea",
   "metadata": {
    "scrolled": true
   },
   "outputs": [],
   "source": [
    "model = Sequential()\n",
    "model.add(Dense(50,input_dim = x_train.shape[1],activation = \"relu\"))\n",
    "model.add(Dense(30,activation='relu'))\n",
    "model.add(Dropout(0.2))\n",
    "model.add(Dense(30,activation='relu'))\n",
    "model.add(Dropout(0.2))\n",
    "model.add(Dense(20,activation='relu'))\n",
    "model.add(Dense(1,activation='relu'))"
   ]
  },
  {
   "cell_type": "code",
   "execution_count": 423,
   "id": "0f11f7f0",
   "metadata": {},
   "outputs": [
    {
     "name": "stdout",
     "output_type": "stream",
     "text": [
      "Model: \"sequential_38\"\n",
      "_________________________________________________________________\n",
      " Layer (type)                Output Shape              Param #   \n",
      "=================================================================\n",
      " dense_152 (Dense)           (None, 80)                640       \n",
      "                                                                 \n",
      " dense_153 (Dense)           (None, 40)                3240      \n",
      "                                                                 \n",
      " dropout_55 (Dropout)        (None, 40)                0         \n",
      "                                                                 \n",
      " dense_154 (Dense)           (None, 40)                1640      \n",
      "                                                                 \n",
      " dropout_56 (Dropout)        (None, 40)                0         \n",
      "                                                                 \n",
      " dense_155 (Dense)           (None, 20)                820       \n",
      "                                                                 \n",
      " dense_156 (Dense)           (None, 1)                 21        \n",
      "                                                                 \n",
      "=================================================================\n",
      "Total params: 6,361\n",
      "Trainable params: 6,361\n",
      "Non-trainable params: 0\n",
      "_________________________________________________________________\n"
     ]
    }
   ],
   "source": [
    "model.summary()"
   ]
  },
  {
   "cell_type": "code",
   "execution_count": 425,
   "id": "e8c7446d",
   "metadata": {},
   "outputs": [],
   "source": [
    "model.compile(loss = \"mse\", optimizer = \"adam\",metrics = [\"mse\"])"
   ]
  },
  {
   "cell_type": "code",
   "execution_count": 429,
   "id": "cceea53b",
   "metadata": {
    "scrolled": true
   },
   "outputs": [
    {
     "name": "stdout",
     "output_type": "stream",
     "text": [
      "Epoch 1/50\n",
      "2097/2097 [==============================] - 3s 1ms/step - loss: 0.0049 - mse: 0.0049A: 0s - loss: 0.0049 - mse: 0.0\n",
      "Epoch 2/50\n",
      "2097/2097 [==============================] - 3s 1ms/step - loss: 0.0046 - mse: 0.0046\n",
      "Epoch 3/50\n",
      "2097/2097 [==============================] - 3s 1ms/step - loss: 0.0043 - mse: 0.0043\n",
      "Epoch 4/50\n",
      "2097/2097 [==============================] - 3s 1ms/step - loss: 0.0041 - mse: 0.0041\n",
      "Epoch 5/50\n",
      "2097/2097 [==============================] - 3s 1ms/step - loss: 0.0040 - mse: 0.0040\n",
      "Epoch 6/50\n",
      "2097/2097 [==============================] - 3s 1ms/step - loss: 0.0038 - mse: 0.0038\n",
      "Epoch 7/50\n",
      "2097/2097 [==============================] - 3s 1ms/step - loss: 0.0037 - mse: 0.0037\n",
      "Epoch 8/50\n",
      "2097/2097 [==============================] - 3s 1ms/step - loss: 0.0036 - mse: 0.0036\n",
      "Epoch 9/50\n",
      "2097/2097 [==============================] - 3s 1ms/step - loss: 0.0036 - mse: 0.0036\n",
      "Epoch 10/50\n",
      "2097/2097 [==============================] - 3s 1ms/step - loss: 0.0035 - mse: 0.0035A: 0s - loss: 0.003\n",
      "Epoch 11/50\n",
      "2097/2097 [==============================] - 3s 1ms/step - loss: 0.0035 - mse: 0.0035\n",
      "Epoch 12/50\n",
      "2097/2097 [==============================] - 3s 1ms/step - loss: 0.0034 - mse: 0.0034\n",
      "Epoch 13/50\n",
      "2097/2097 [==============================] - 3s 1ms/step - loss: 0.0034 - mse: 0.0034\n",
      "Epoch 14/50\n",
      "2097/2097 [==============================] - 3s 1ms/step - loss: 0.0034 - mse: 0.0034\n",
      "Epoch 15/50\n",
      "2097/2097 [==============================] - 3s 1ms/step - loss: 0.0033 - mse: 0.0033\n",
      "Epoch 16/50\n",
      "2097/2097 [==============================] - 3s 1ms/step - loss: 0.0033 - mse: 0.0033A: 1\n",
      "Epoch 17/50\n",
      "2097/2097 [==============================] - 3s 1ms/step - loss: 0.0033 - mse: 0.0033\n",
      "Epoch 18/50\n",
      "2097/2097 [==============================] - 3s 1ms/step - loss: 0.0032 - mse: 0.0032\n",
      "Epoch 19/50\n",
      "2097/2097 [==============================] - 3s 1ms/step - loss: 0.0032 - mse: 0.0032\n",
      "Epoch 20/50\n",
      "2097/2097 [==============================] - 3s 1ms/step - loss: 0.0031 - mse: 0.0031\n",
      "Epoch 21/50\n",
      "2097/2097 [==============================] - 3s 1ms/step - loss: 0.0031 - mse: 0.0031\n",
      "Epoch 22/50\n",
      "2097/2097 [==============================] - 3s 1ms/step - loss: 0.0031 - mse: 0.0031\n",
      "Epoch 23/50\n",
      "2097/2097 [==============================] - 3s 1ms/step - loss: 0.0031 - mse: 0.0031\n",
      "Epoch 24/50\n",
      "2097/2097 [==============================] - 3s 1ms/step - loss: 0.0031 - mse: 0.0031\n",
      "Epoch 25/50\n",
      "2097/2097 [==============================] - 3s 2ms/step - loss: 0.0030 - mse: 0.0030A: 0s - loss: 0.0030 - ms\n",
      "Epoch 26/50\n",
      "2097/2097 [==============================] - 3s 2ms/step - loss: 0.0030 - mse: 0.0030\n",
      "Epoch 27/50\n",
      "2097/2097 [==============================] - 3s 2ms/step - loss: 0.0030 - mse: 0.0030A: 0s - loss: 0.0030 - \n",
      "Epoch 28/50\n",
      "2097/2097 [==============================] - 3s 1ms/step - loss: 0.0030 - mse: 0.0030\n",
      "Epoch 29/50\n",
      "2097/2097 [==============================] - 3s 1ms/step - loss: 0.0030 - mse: 0.0030\n",
      "Epoch 30/50\n",
      "2097/2097 [==============================] - 3s 1ms/step - loss: 0.0029 - mse: 0.0029\n",
      "Epoch 31/50\n",
      "2097/2097 [==============================] - 3s 2ms/step - loss: 0.0029 - mse: 0.0029\n",
      "Epoch 32/50\n",
      "2097/2097 [==============================] - 3s 1ms/step - loss: 0.0029 - mse: 0.0029A: 0s - loss: 0.0029 - mse\n",
      "Epoch 33/50\n",
      "2097/2097 [==============================] - 3s 1ms/step - loss: 0.0029 - mse: 0.0029\n",
      "Epoch 34/50\n",
      "2097/2097 [==============================] - 3s 1ms/step - loss: 0.0029 - mse: 0.0029\n",
      "Epoch 35/50\n",
      "2097/2097 [==============================] - 3s 1ms/step - loss: 0.0029 - mse: 0.0029\n",
      "Epoch 36/50\n",
      "2097/2097 [==============================] - 3s 1ms/step - loss: 0.0029 - mse: 0.0029\n",
      "Epoch 37/50\n",
      "2097/2097 [==============================] - 3s 1ms/step - loss: 0.0028 - mse: 0.0028A: 0s - loss: 0.002\n",
      "Epoch 38/50\n",
      "2097/2097 [==============================] - 3s 1ms/step - loss: 0.0029 - mse: 0.0029\n",
      "Epoch 39/50\n",
      "2097/2097 [==============================] - 3s 1ms/step - loss: 0.0029 - mse: 0.0029A: 0s - loss: 0.0028\n",
      "Epoch 40/50\n",
      "2097/2097 [==============================] - 4s 2ms/step - loss: 0.0028 - mse: 0.0028\n",
      "Epoch 41/50\n",
      "2097/2097 [==============================] - 3s 1ms/step - loss: 0.0028 - mse: 0.0028\n",
      "Epoch 42/50\n",
      "2097/2097 [==============================] - 3s 1ms/step - loss: 0.0028 - mse: 0.0028A: 0s - loss: 0.0028 - mse: 0\n",
      "Epoch 43/50\n",
      "2097/2097 [==============================] - 3s 1ms/step - loss: 0.0028 - mse: 0.0028\n",
      "Epoch 44/50\n",
      "2097/2097 [==============================] - 3s 1ms/step - loss: 0.0028 - mse: 0.0028\n",
      "Epoch 45/50\n",
      "2097/2097 [==============================] - 3s 1ms/step - loss: 0.0028 - mse: 0.0028\n",
      "Epoch 46/50\n",
      "2097/2097 [==============================] - 3s 1ms/step - loss: 0.0028 - mse: 0.0028\n",
      "Epoch 47/50\n",
      "2097/2097 [==============================] - 3s 1ms/step - loss: 0.0028 - mse: 0.0028A\n",
      "Epoch 48/50\n",
      "2097/2097 [==============================] - 3s 1ms/step - loss: 0.0027 - mse: 0.0027\n",
      "Epoch 49/50\n",
      "2097/2097 [==============================] - 3s 1ms/step - loss: 0.0027 - mse: 0.0027\n",
      "Epoch 50/50\n",
      "2097/2097 [==============================] - 3s 1ms/step - loss: 0.0027 - mse: 0.0027A: 0s - loss: 0.\n"
     ]
    },
    {
     "data": {
      "text/plain": [
       "<keras.callbacks.History at 0x27d3efb41c0>"
      ]
     },
     "execution_count": 429,
     "metadata": {},
     "output_type": "execute_result"
    }
   ],
   "source": [
    "model.fit(x_train, y_train,epochs=50, batch_size = 20, verbose = 1)"
   ]
  },
  {
   "cell_type": "code",
   "execution_count": 430,
   "id": "529989f1",
   "metadata": {},
   "outputs": [],
   "source": [
    "pred = model.predict(x_test)"
   ]
  },
  {
   "cell_type": "code",
   "execution_count": 431,
   "id": "a21008e3",
   "metadata": {},
   "outputs": [
    {
     "data": {
      "text/plain": [
       "0.8630880700518087"
      ]
     },
     "execution_count": 431,
     "metadata": {},
     "output_type": "execute_result"
    }
   ],
   "source": [
    "from sklearn.metrics import r2_score\n",
    "pred = np.squeeze(pred)\n",
    "y_test = np.squeeze(np.array(y_test))\n",
    "r2_score(y_test,pred)"
   ]
  }
 ],
 "metadata": {
  "kernelspec": {
   "display_name": "Python 3 (ipykernel)",
   "language": "python",
   "name": "python3"
  },
  "language_info": {
   "codemirror_mode": {
    "name": "ipython",
    "version": 3
   },
   "file_extension": ".py",
   "mimetype": "text/x-python",
   "name": "python",
   "nbconvert_exporter": "python",
   "pygments_lexer": "ipython3",
   "version": "3.9.7"
  }
 },
 "nbformat": 4,
 "nbformat_minor": 5
}
